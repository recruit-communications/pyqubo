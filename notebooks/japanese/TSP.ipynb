{
 "cells": [
  {
   "cell_type": "code",
   "execution_count": 1,
   "metadata": {},
   "outputs": [],
   "source": [
    "%matplotlib inline\n",
    "from pyqubo import Spin, Matrix, Param, solve_qubo, Constraint, Sum\n",
    "import matplotlib.pyplot as plt\n",
    "import networkx as nx\n",
    "import numpy as np"
   ]
  },
  {
   "cell_type": "markdown",
   "metadata": {},
   "source": [
    "## Traveling Salesman Problem (TSP)\n",
    "\n",
    "全ての都市を一度だけ訪問し、元の都市に戻ってくる最短の経路を見つける。"
   ]
  },
  {
   "cell_type": "code",
   "execution_count": 4,
   "metadata": {},
   "outputs": [],
   "source": [
    "def plot_city(cities, sol = {}):\n",
    "    n_city = len(cities)\n",
    "    cities_dict = dict(cities)\n",
    "    G = nx.Graph()\n",
    "    for city in cities_dict:\n",
    "        G.add_node(city)\n",
    "        \n",
    "    # draw path\n",
    "    if sol:\n",
    "        city_order = []\n",
    "        for i, v in sol.items():\n",
    "            for j, v2 in v.items():\n",
    "                if v2 == 1:\n",
    "                    city_order.append(j)\n",
    "        for i in range(n_city):\n",
    "            city_index1 = city_order[i]\n",
    "            city_index2 = city_order[(i+1) % n_city]\n",
    "            G.add_edge(cities[city_index1][0], cities[city_index2][0])\n",
    "\n",
    "    plt.figure(figsize=(3,3))\n",
    "    pos = nx.spring_layout(G)\n",
    "    nx.draw_networkx(G, cities_dict)\n",
    "    plt.axis(\"off\")\n",
    "    plt.show()\n",
    "\n",
    "def dist(i, j, cities):\n",
    "    pos_i = cities[i][1]\n",
    "    pos_j = cities[j][1]\n",
    "    return np.sqrt((pos_i[0] - pos_j[0])**2 + (pos_i[1] - pos_j[1])**2)"
   ]
  },
  {
   "cell_type": "code",
   "execution_count": 5,
   "metadata": {},
   "outputs": [
    {
     "data": {
      "image/png": "[encoded data removed]",
      "text/plain": [
       "<Figure size 216x216 with 1 Axes>"
      ]
     },
     "metadata": {
      "needs_background": "light"
     },
     "output_type": "display_data"
    }
   ],
   "source": [
    "# 都市の名前と座標のデータを用意 list[(\"name\", (x, y))]\n",
    "cities = [\n",
    "    (\"a\", (0, 0)),\n",
    "    (\"b\", (1, 3)),\n",
    "    (\"c\", (3, 2)),\n",
    "    (\"d\", (2, 1)),\n",
    "    (\"e\", (0, 1))\n",
    "]\n",
    "plot_city(cities)"
   ]
  },
  {
   "cell_type": "markdown",
   "metadata": {},
   "source": [
    "バイナリベクトル$x$を用意。$x[i, j]=1$は時刻$i$に都市$j$にいることを表現する。"
   ]
  },
  {
   "cell_type": "code",
   "execution_count": 6,
   "metadata": {},
   "outputs": [],
   "source": [
    "n_city = len(cities)\n",
    "x = Matrix('c', n_city, n_city)"
   ]
  },
  {
   "cell_type": "code",
   "execution_count": 7,
   "metadata": {},
   "outputs": [],
   "source": [
    "# ある時刻iに一つの都市にのみ存在できる制約を記述\n",
    "time_const = 0.0\n",
    "for i in range(n_city):\n",
    "    # Const(...)で数式を囲むと、その部分が制約として認識される。\n",
    "    time_const += Constraint((Sum(0, n_city, lambda j: x[i, j]) - 1)**2, label=\"time{}\".format(i))\n",
    "\n",
    "# 一つの都市を一度しか訪れない制約を記述\n",
    "city_const = 0.0\n",
    "for j in range(n_city):\n",
    "    city_const += Constraint((Sum(0, n_city, lambda i: x[i, j]) - 1)**2, label=\"city{}\".format(i))"
   ]
  },
  {
   "cell_type": "code",
   "execution_count": 8,
   "metadata": {},
   "outputs": [],
   "source": [
    "# 経路の総距離を記述\n",
    "distance = 0.0\n",
    "for i in range(n_city):\n",
    "    for j in range(n_city):\n",
    "        for k in range(n_city):\n",
    "            # 時刻kに都市i, 時刻k+1に都市jにいた場合の都市i,j間の距離\n",
    "            d_ij = dist(i, j, cities)\n",
    "            distance += d_ij * x[k, i] * x[(k+1)%n_city, j]"
   ]
  },
  {
   "cell_type": "code",
   "execution_count": 9,
   "metadata": {},
   "outputs": [],
   "source": [
    "# ハミルトニアンを構築\n",
    "A = Param(\"A\")\n",
    "H = distance + A * (time_const + city_const)"
   ]
  },
  {
   "cell_type": "code",
   "execution_count": 10,
   "metadata": {},
   "outputs": [],
   "source": [
    "# モデルをコンパイル\n",
    "model = H.compile()"
   ]
  },
  {
   "cell_type": "code",
   "execution_count": 16,
   "metadata": {},
   "outputs": [],
   "source": [
    "# QUBOを作成\n",
    "params = {'A': 4.0}\n",
    "qubo, offset = model.to_qubo(params=params)"
   ]
  },
  {
   "cell_type": "code",
   "execution_count": 17,
   "metadata": {},
   "outputs": [],
   "source": [
    "sol = solve_qubo(qubo)"
   ]
  },
  {
   "cell_type": "code",
   "execution_count": 18,
   "metadata": {},
   "outputs": [
    {
     "name": "stdout",
     "output_type": "stream",
     "text": [
      "number of broken constarint = 0\n"
     ]
    }
   ],
   "source": [
    "solution, broken, energy = model.decode_solution(sol, var_type=\"binary\", params=params)\n",
    "print(\"number of broken constarint = {}\".format(len(broken)))"
   ]
  },
  {
   "cell_type": "code",
   "execution_count": 19,
   "metadata": {},
   "outputs": [
    {
     "data": {
      "image/png": "[encoded data removed]",
      "text/plain": [
       "<Figure size 216x216 with 1 Axes>"
      ]
     },
     "metadata": {
      "needs_background": "light"
     },
     "output_type": "display_data"
    }
   ],
   "source": [
    "if len(broken) == 0:\n",
    "    plot_city(cities, solution[\"c\"])"
   ]
  }
 ],
 "metadata": {
  "kernelspec": {
   "display_name": "Python 3",
   "language": "python",
   "name": "python3"
  },
  "language_info": {
   "codemirror_mode": {
    "name": "ipython",
    "version": 3
   },
   "file_extension": ".py",
   "mimetype": "text/x-python",
   "name": "python",
   "nbconvert_exporter": "python",
   "pygments_lexer": "ipython3",
   "version": "3.6.1"
  }
 },
 "nbformat": 4,
 "nbformat_minor": 2
}
