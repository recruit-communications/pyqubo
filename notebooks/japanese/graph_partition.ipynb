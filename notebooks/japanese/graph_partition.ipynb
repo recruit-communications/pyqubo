{
 "cells": [
  {
   "cell_type": "code",
   "execution_count": 1,
   "metadata": {},
   "outputs": [],
   "source": [
    "%matplotlib inline\n",
    "from pyqubo import Spin, Vector, Param, solve_ising, Constraint\n",
    "import matplotlib.pyplot as plt\n",
    "import networkx as nx"
   ]
  },
  {
   "cell_type": "markdown",
   "metadata": {},
   "source": [
    "## グラフ分割問題\n",
    "\n",
    "偶数の個数の頂点を持つグラフを２つに分割する。分割されるエッジが最小となる分割方法を見つけたい。\n",
    "この問題はIsingモデルにより次のように定式化される。\n",
    "\n",
    "$$H(s) = \\alpha H_{A}(s) + H_{B}(s)$$\n",
    "$$H_{A}(s) = \\left( \\sum_{i \\in V} s_{i}\\right )^2$$\n",
    "$$H_{B}(s) = \\sum_{(i, j) \\in E} \\frac{1-s_{i}s_{j}}{2}$$\n",
    "\n",
    "$H_{A}(s)$は２つの集合の頂点数が同じになる制約、$H_{B}(s)$は切断されるエッジの個数、$\\alpha$はペナルティの強さである。"
   ]
  },
  {
   "cell_type": "code",
   "execution_count": 54,
   "metadata": {},
   "outputs": [],
   "source": [
    "def plot_graph(E, colors=None):\n",
    "    G = nx.Graph()\n",
    "    for (i, j) in E:\n",
    "        G.add_edge(i, j)\n",
    "    plt.figure(figsize=(4,4))\n",
    "    pos = nx.spring_layout(G)\n",
    "    if colors:\n",
    "        nx.draw_networkx(G, pos, node_color=[colors[node] for node in G.nodes])\n",
    "    else:\n",
    "        nx.draw_networkx(G, pos)\n",
    "    plt.axis(\"off\")\n",
    "    plt.show()"
   ]
  },
  {
   "cell_type": "code",
   "execution_count": 55,
   "metadata": {},
   "outputs": [
    {
     "data": {
      "image/png": "[encoded data removed]",
      "text/plain": [
       "<Figure size 288x288 with 1 Axes>"
      ]
     },
     "metadata": {
      "needs_background": "light"
     },
     "output_type": "display_data"
    }
   ],
   "source": [
    "# エッジが以下のように与えられる\n",
    "E = {(0, 6), (2, 4), (7, 5), (0, 4), (2, 0),\n",
    "     (5, 3), (2, 3), (2, 6), (4, 6), (1, 3),\n",
    "     (1, 5), (7, 1), (7, 3), (2, 5)}\n",
    "plot_graph(E)"
   ]
  },
  {
   "cell_type": "markdown",
   "metadata": {},
   "source": [
    "ノード数と同じである$8$次元のスピンのスピンベクトル$s$を用意する。各スピンは対応するノードがどちらの集合に属するかを表している。"
   ]
  },
  {
   "cell_type": "code",
   "execution_count": 56,
   "metadata": {},
   "outputs": [],
   "source": [
    "# スピンベクトルの宣言\n",
    "s = Vector(\"s\", 8, spin=True)\n",
    "\n",
    "# パラメータA, Bの宣言\n",
    "a = Param(\"alpha\")"
   ]
  },
  {
   "cell_type": "code",
   "execution_count": 57,
   "metadata": {},
   "outputs": [],
   "source": [
    "# ハミルトニアン H_{A}を定義\n",
    "HA =Constraint(sum(s) ** 2, \"num_nodes\")\n",
    "\n",
    "# ハミルトニアン H_{B}を定義\n",
    "HB = sum((1.0 - s[i]*s[j]) / 2.0 for (i, j) in E)\n",
    "\n",
    "H = a * HA + HB"
   ]
  },
  {
   "cell_type": "code",
   "execution_count": 58,
   "metadata": {},
   "outputs": [],
   "source": [
    "# モデルのコンパイル\n",
    "model = H.compile()\n",
    "\n",
    "# A=1.0, B=1.0としてIsingモデルを得る\n",
    "params={'alpha': 0.1}\n",
    "linear, quad, offset = model.to_ising(params=params)"
   ]
  },
  {
   "cell_type": "code",
   "execution_count": 62,
   "metadata": {},
   "outputs": [
    {
     "name": "stdout",
     "output_type": "stream",
     "text": [
      "#broken constraints: 0\n"
     ]
    }
   ],
   "source": [
    "# Isingモデルを解く\n",
    "solution = solve_ising(linear, quad)\n",
    "\n",
    "# 解をデコードする\n",
    "decoded_sol, broken, energy = model.decode_solution(solution, var_type=\"spin\", params=params)\n",
    "print(\"#broken constraints: {}\".format(len(broken)))"
   ]
  },
  {
   "cell_type": "code",
   "execution_count": 63,
   "metadata": {},
   "outputs": [
    {
     "data": {
      "image/png": "[encoded data removed]",
      "text/plain": [
       "<Figure size 288x288 with 1 Axes>"
      ]
     },
     "metadata": {
      "needs_background": "light"
     },
     "output_type": "display_data"
    }
   ],
   "source": [
    "# グラフを色分けしてみる\n",
    "plot_graph(E, [solution[k]+1 for k in sorted(solution.keys())])"
   ]
  }
 ],
 "metadata": {
  "kernelspec": {
   "display_name": "Python 3",
   "language": "python",
   "name": "python3"
  },
  "language_info": {
   "codemirror_mode": {
    "name": "ipython",
    "version": 3
   },
   "file_extension": ".py",
   "mimetype": "text/x-python",
   "name": "python",
   "nbconvert_exporter": "python",
   "pygments_lexer": "ipython3",
   "version": "3.6.1"
  }
 },
 "nbformat": 4,
 "nbformat_minor": 2
}
