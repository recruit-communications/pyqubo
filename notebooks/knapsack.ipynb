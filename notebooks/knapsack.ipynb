{
 "cells": [
  {
   "cell_type": "code",
   "execution_count": 1,
   "metadata": {},
   "outputs": [],
   "source": [
    "import pyqubo\n",
    "import numpy as np\n",
    "from pyqubo import Array, Placeholder, Spin, solve_qubo, Constraint, OneHotEncInteger"
   ]
  },
  {
   "cell_type": "markdown",
   "metadata": {},
   "source": [
    "# Knapsack Problem with Integer Weights"
   ]
  },
  {
   "cell_type": "markdown",
   "metadata": {},
   "source": [
    "We have N objects, each with an integer weight and price, that we want to put inside a knapsack that can only carry weight **W**. We want to maximize the total cost of the items we collect while subject to the weight constraint. The total weight in the knapsack _W_ can be represented as\n",
    "\n",
    "$$\n",
    "W = \\sum_{\\alpha = 1}^{N} w_{\\alpha}x_{\\alpha},\n",
    "$$\n",
    "\n",
    "and its total cost _C_ as \n",
    "\n",
    "$$\n",
    "C = \\sum_{\\alpha = 1}^{N} c_{\\alpha}x_{\\alpha},\n",
    "$$\n",
    "\n",
    "where $x_{a}$ determines whether or not object $\\alpha$ is in the knapsack. The solution takes the form $\\lambda H_{A} + H_{B}$. We define $H_{A}$ as\n",
    "\n",
    "$$\n",
    "H_{A} = \\left(1-\\sum_{n = 1}^{W} y_{n} \\right)^2\n",
    "+ \\left (\\sum_{n = 1}^{W} n y_{n} - \\sum_{\\alpha} w_{\\alpha} x_{\\alpha} \\right)^2,\n",
    "$$\n",
    "\n",
    "where $y_{n}$ represents a binary that is 1 if the final weight is $n$, and 0 otherwise, and $H_{B}$ as\n",
    "\n",
    "$$\n",
    "H_{B} = \\sum_{\\alpha} c_{\\alpha} x_{\\alpha}.\n",
    "$$"
   ]
  },
  {
   "cell_type": "code",
   "execution_count": 2,
   "metadata": {},
   "outputs": [],
   "source": [
    "weights = [1, 3, 7, 9] \n",
    "values = [10, 2, 3, 6] \n",
    "max_weight = 10\n",
    "\n",
    "items = Array.create('item', shape=4, vartype=\"BINARY\")\n",
    "\n",
    "knapsack_weight = sum(weights[i] * items[i] for i in range(len(items)))\n",
    "knapsack_value = sum(values[i] * items[i] for i in range(len(items)))\n",
    "\n",
    "lmd = Placeholder(\"lambda\")\n",
    "\n",
    "weight_one_hot = OneHotEncInteger(\"weight_one_hot\", 1, max_weight, strength=lmd)\n",
    "Ha = Constraint((weight_one_hot - knapsack_weight)**2, \"weight_constraint\")\n",
    "Hb = knapsack_value\n",
    "H = Ha - Hb\n",
    "\n",
    "model = H.compile()\n",
    "steps = 15\n",
    "feed_dict = {'lambda': 1.0}\n",
    "for i in range(steps):\n",
    "    qubo, offset = model.to_qubo(feed_dict=feed_dict)\n",
    "    sol = solve_qubo(qubo)\n",
    "    solution, broken, energy = model.decode_solution(sol, vartype=\"BINARY\", feed_dict=feed_dict)\n",
    "    if not broken:\n",
    "        break\n",
    "    else: \n",
    "        feed_dict['lambda'] *= 1.2"
   ]
  },
  {
   "cell_type": "code",
   "execution_count": 3,
   "metadata": {},
   "outputs": [
    {
     "data": {
      "text/plain": [
       "WithPenalty(value=((Binary(weight_one_hot[0])*Num(0))+(Binary(weight_one_hot[1])*Num(1))+(Binary(weight_one_hot[2])*Num(2))+(Binary(weight_one_hot[3])*Num(3))+(Binary(weight_one_hot[4])*Num(4))+(Binary(weight_one_hot[5])*Num(5))+(Binary(weight_one_hot[6])*Num(6))+(Binary(weight_one_hot[7])*Num(7))+(Binary(weight_one_hot[8])*Num(8))+(Binary(weight_one_hot[9])*Num(9))+Num(1)),penalty=(Const(weight_one_hot_const, ((Binary(weight_one_hot[0])+Binary(weight_one_hot[1])+Binary(weight_one_hot[2])+Binary(weight_one_hot[3])+Binary(weight_one_hot[4])+Binary(weight_one_hot[5])+Binary(weight_one_hot[6])+Binary(weight_one_hot[7])+Binary(weight_one_hot[8])+Binary(weight_one_hot[9])+Num(-1))*(Binary(weight_one_hot[0])+Binary(weight_one_hot[1])+Binary(weight_one_hot[2])+Binary(weight_one_hot[3])+Binary(weight_one_hot[4])+Binary(weight_one_hot[5])+Binary(weight_one_hot[6])+Binary(weight_one_hot[7])+Binary(weight_one_hot[8])+Binary(weight_one_hot[9])+Num(-1))))*Placeholder(lambda)))"
      ]
     },
     "execution_count": 3,
     "metadata": {},
     "output_type": "execute_result"
    }
   ],
   "source": [
    "weight_one_hot"
   ]
  },
  {
   "cell_type": "code",
   "execution_count": 4,
   "metadata": {},
   "outputs": [
    {
     "data": {
      "text/plain": [
       "{'item': {0: 1, 1: 0, 2: 0, 3: 1},\n",
       " 'weight_one_hot': {0: 0,\n",
       "  1: 0,\n",
       "  2: 0,\n",
       "  3: 0,\n",
       "  4: 0,\n",
       "  5: 0,\n",
       "  6: 0,\n",
       "  7: 0,\n",
       "  8: 0,\n",
       "  9: 1}}"
      ]
     },
     "execution_count": 4,
     "metadata": {},
     "output_type": "execute_result"
    }
   ],
   "source": [
    "solution"
   ]
  },
  {
   "cell_type": "markdown",
   "metadata": {},
   "source": [
    "## The Knapsack Problem Using D-Wave Solvers"
   ]
  },
  {
   "cell_type": "code",
   "execution_count": 5,
   "metadata": {},
   "outputs": [],
   "source": [
    "import dimod\n",
    "from dwave.embedding.chain_breaks import majority_vote\n",
    "from dwave.system.samplers import DWaveSampler\n",
    "from dwave.system.composites import FixedEmbeddingComposite\n",
    "from dwave.embedding.chimera import find_clique_embedding"
   ]
  },
  {
   "cell_type": "code",
   "execution_count": 6,
   "metadata": {},
   "outputs": [],
   "source": [
    "def create_dw_sampler(endpoint, token, solver):\n",
    "    dw_sampler = DWaveSampler(endpoint=endpoint, token=token, solver=solver)\n",
    "    embedding = find_clique_embedding(64, m=16, n=16, t=4) \n",
    "    chains = list(embedding.values())\n",
    "    clique_sampler = FixedEmbeddingComposite(dw_sampler, embedding)\n",
    "    return clique_sampler, chains"
   ]
  },
  {
   "cell_type": "code",
   "execution_count": 7,
   "metadata": {},
   "outputs": [],
   "source": [
    "dw_sampler, chains = create_dw_sampler(\n",
    "    \"https://cloud.dwavesys.com/sapi\",\n",
    "    \"api-key\",\n",
    "    \"DW_2000Q_VFYC_5\")"
   ]
  },
  {
   "cell_type": "code",
   "execution_count": 8,
   "metadata": {},
   "outputs": [],
   "source": [
    "sampler_kwargs = {\n",
    "    \"num_reads\": 1000,\n",
    "    \"annealing_time\": 20,\n",
    "    \"chains\": chains,\n",
    "    \"postprocess\": \"optimization\",\n",
    "    \"num_spin_reversal_transforms\": 10,\n",
    "    \"auto_scale\": True,\n",
    "    \"chain_strength\": 2.0,\n",
    "    \"chain_break_fraction\": True\n",
    "}"
   ]
  },
  {
   "cell_type": "code",
   "execution_count": 9,
   "metadata": {},
   "outputs": [],
   "source": [
    "def objective(feed_dict, sampler_kwargs):\n",
    "    qubo, offset = model.to_qubo(index_label=True, feed_dict=feed_dict)\n",
    "    normalized_bqm = dimod.BinaryQuadraticModel.from_qubo(qubo)\n",
    "    normalized_bqm.normalize([-1, 1])\n",
    "    response = dw_sampler.sample(normalized_bqm,  **sampler_kwargs)\n",
    "    decoded_sol, broken, energy = model.decode_dimod_response(response, topk=1, feed_dict=feed_dict)[0]\n",
    "    return decoded_sol, broken, energy"
   ]
  },
  {
   "cell_type": "code",
   "execution_count": 10,
   "metadata": {},
   "outputs": [],
   "source": [
    "steps=10\n",
    "feed_dict = {\"lambda\": 1.0}\n",
    "mu = 1.1\n",
    "for i in range(steps):\n",
    "    decoded_sol, broken_const, energy = objective(feed_dict, sampler_kwargs)\n",
    "    if not broken_const:\n",
    "        break\n",
    "    feed_dict['lambda'] *= mu"
   ]
  },
  {
   "cell_type": "code",
   "execution_count": 11,
   "metadata": {},
   "outputs": [
    {
     "data": {
      "text/plain": [
       "{'item': {0: 1, 1: 0, 2: 0, 3: 1},\n",
       " 'weight_one_hot': {0: 0,\n",
       "  1: 0,\n",
       "  2: 0,\n",
       "  3: 0,\n",
       "  4: 0,\n",
       "  5: 0,\n",
       "  6: 0,\n",
       "  7: 0,\n",
       "  8: 0,\n",
       "  9: 1}}"
      ]
     },
     "execution_count": 11,
     "metadata": {},
     "output_type": "execute_result"
    }
   ],
   "source": [
    "decoded_sol"
   ]
  },
  {
   "cell_type": "code",
   "execution_count": null,
   "metadata": {},
   "outputs": [],
   "source": []
  }
 ],
 "metadata": {
  "kernelspec": {
   "display_name": "Python 3",
   "language": "python",
   "name": "python3"
  },
  "language_info": {
   "codemirror_mode": {
    "name": "ipython",
    "version": 3
   },
   "file_extension": ".py",
   "mimetype": "text/x-python",
   "name": "python",
   "nbconvert_exporter": "python",
   "pygments_lexer": "ipython3",
   "version": "3.7.2"
  }
 },
 "nbformat": 4,
 "nbformat_minor": 4
}
