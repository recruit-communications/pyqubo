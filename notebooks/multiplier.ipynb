{
 "cells": [
  {
   "cell_type": "code",
   "execution_count": null,
   "metadata": {},
   "outputs": [],
   "source": [
    "from pyqubo import Xor, And, Or\n",
    "from pyqubo import AndConst, OrConst, XorConst\n",
    "from pyqubo import Binary, Spin, solve_qubo, Integer\n",
    "import dimod\n",
    "from pyqubo import Array"
   ]
  },
  {
   "cell_type": "code",
   "execution_count": null,
   "metadata": {},
   "outputs": [],
   "source": [
    "from IPython.display import IFrame"
   ]
  },
  {
   "cell_type": "markdown",
   "metadata": {},
   "source": [
    "## Half and Full Adder"
   ]
  },
  {
   "cell_type": "markdown",
   "metadata": {},
   "source": [
    "<img src=\"./images/half_adder.png\" alt=\"half-adder\" align=\"left\" style=\"width: 300px;\"/>"
   ]
  },
  {
   "cell_type": "code",
   "execution_count": null,
   "metadata": {},
   "outputs": [],
   "source": [
    "class HalfAdder:\n",
    "    def __init__(self, a, b, s, c, label):\n",
    "        xor_const = XorConst(a, b, s, label=label+'_xor')  \n",
    "        and_const = AndConst(a, b, c, label=label+'_and')\n",
    "        self.H = xor_const + and_const"
   ]
  },
  {
   "cell_type": "markdown",
   "metadata": {},
   "source": [
    "<img src=\"./images/full_adder.png\" alt=\"full-adder\" align=\"left\" style=\"width: 600px;\"/>"
   ]
  },
  {
   "cell_type": "code",
   "execution_count": null,
   "metadata": {},
   "outputs": [],
   "source": [
    "class FullAdder:\n",
    "    def __init__(self, a, b, c_in, s, c_out, label):\n",
    "        s1 = Binary(label+'_s1')\n",
    "        c1 = Binary(label+'_c1')\n",
    "        c2 = Binary(label+'_c2')\n",
    "        h1 = HalfAdder(a, b, s1, c1, label+'_FA_HA1')\n",
    "        h2 = HalfAdder(s1, c_in, s, c2, label+'_FA_HA2')\n",
    "        or_const = OrConst(c1, c2, c_out, label+'_FA_or')\n",
    "        self.H = h1.H + h2.H + or_const"
   ]
  },
  {
   "cell_type": "markdown",
   "metadata": {},
   "source": [
    "## Two-Bit Multiplier"
   ]
  },
  {
   "cell_type": "code",
   "execution_count": null,
   "metadata": {},
   "outputs": [],
   "source": [
    "class TwoBitMultiplier:\n",
    "    \n",
    "    def __init__(self, a, b, p, label):\n",
    "        a0, a1 = a \n",
    "        b0, b1 = b\n",
    "        p0, p1, p2, p3 = p\n",
    "        \n",
    "        b0a0 = Binary(label+'_b0a0') \n",
    "        b0a1 = Binary(label+'_b0a1')\n",
    "        b1a0 = Binary(label+'_b1a0')\n",
    "        b1a1 = p3 # Binary(f\"{label}_b1a1\")\n",
    "        \n",
    "        and_1 = AndConst(b1, a1, b1a1, label+'_and1') \n",
    "        and_2 = AndConst(b1, a0, b1a0, label+'_and2')\n",
    "        and_3 = AndConst(b0, a1, b0a1, label+'_and3')\n",
    "        and_4 = AndConst(a0, b0, b0a0, label+'_and4')  \n",
    "        \n",
    "        ha1_c = Binary(\"ha1_c\")  \n",
    "        \n",
    "        ha1 = HalfAdder(b1a0, b0a1, p2, ha1_c, label+'_ha1')  # ha1_s\n",
    "        ha2 = HalfAdder(b0a0, ha1_c, p1, p0, label+'_ha2')  # ha2_s\n",
    "        \n",
    "        self.H = and_1 + and_2 + and_3 + and_4 + ha1.H + ha2.H"
   ]
  },
  {
   "cell_type": "code",
   "execution_count": null,
   "metadata": {},
   "outputs": [],
   "source": [
    "def find_two_bit_multiplier_solutions(num_sol=5):\n",
    "    x = Array.create('x', shape=(2), vartype='BINARY')\n",
    "    y = Array.create('y', shape=(2), vartype='BINARY')\n",
    "    p = Array.create('p', shape=(4), vartype='BINARY')\n",
    "    H = TwoBitMultiplier(x, y, p, \"mult\").H\n",
    "    model = H.compile()\n",
    "    qubo, offset = model.to_qubo()\n",
    "    all_solutions = dimod.ExactSolver().sample_qubo(qubo)\n",
    "    best_n_solutions = model.decode_dimod_response(all_solutions)[0:num_sol]  \n",
    "    return best_n_solutions"
   ]
  },
  {
   "cell_type": "code",
   "execution_count": null,
   "metadata": {},
   "outputs": [],
   "source": [
    "two_bit_multiplier_solutions = find_two_bit_multiplier_solutions(num_sol=5)"
   ]
  },
  {
   "cell_type": "code",
   "execution_count": null,
   "metadata": {},
   "outputs": [],
   "source": [
    "two_bit_multiplier_solutions"
   ]
  },
  {
   "cell_type": "markdown",
   "metadata": {},
   "source": [
    "## Three-Bit Multiplier"
   ]
  },
  {
   "cell_type": "markdown",
   "metadata": {},
   "source": [
    "<img src=\"./images/multiplier.png\" alt=\"multiplier\" align=\"left\" style=\"width: 700px;\"/>"
   ]
  },
  {
   "cell_type": "code",
   "execution_count": null,
   "metadata": {},
   "outputs": [],
   "source": [
    "class ThreeBitMultiplier:\n",
    "    \n",
    "    def __init__(self, a, b, p, label): \n",
    "        a0, a1, a2 = a \n",
    "        b0, b1, b2 = b\n",
    "        p0, p1, p2, p3, p4, p5 = p\n",
    "        \n",
    "        b0a0 = Binary(label+\"_b0a0\") \n",
    "        b0a1 = Binary(label+\"_b0a1\")\n",
    "        b1a0 = Binary(label+\"_b1a0\")\n",
    "        b1a1 = Binary(label+\"_b1a1\")\n",
    "        b0a2 = Binary(label+\"_b0a2\")\n",
    "        b2a0 = Binary(label+\"_b2a0\")\n",
    "        b1a2 = Binary(label+\"_b1a2\")\n",
    "        b2a1 = Binary(label+\"_b2a1\")\n",
    "        b2a2 = p5 # Binary(label+\"_b2a2\")\n",
    "        \n",
    "        and_9 = AndConst(a0, b0, b0a0, label+\"_and9\")  # b0a0\n",
    "        and_8 = AndConst(b0, a1, b0a1, label+\"_and8\")\n",
    "        and_7 = AndConst(b1, a0, b1a0, label+\"_and7\")\n",
    "        and_6 = AndConst(b1, a1, b1a1, label+\"_and6\")\n",
    "        and_5 = AndConst(b0, a2, b0a2, label+\"_and5\")\n",
    "        and_4 = AndConst(b2, a0, b2a0, label+\"_and4\")\n",
    "        and_3 = AndConst(b1, a2, b1a2, label+\"_and3\")\n",
    "        and_2 = AndConst(b2, a1, b2a1, label+\"_and2\")\n",
    "        and_1 = AndConst(b2, a2, b2a2, label+\"_and1\")\n",
    "         \n",
    "        ha1_c = Binary(\"ha1_c\")\n",
    "        fa1_c = Binary(\"fa1_c\")\n",
    "        fa1_s = Binary(\"fa1_s\")\n",
    "        ha2_c = Binary(\"ha2_c\")\n",
    "        fa2_c = Binary(\"fa2_c\")\n",
    "        fa2_s = Binary(\"fa2_s\")\n",
    "        ha3_c = Binary(\"ha3_c\")\n",
    "        \n",
    "        ha1 = HalfAdder(b2a1, b1a2, p4, ha1_c, label+\"_ha1\")  # ha1_s\n",
    "        fa1 = FullAdder(b1a1, b2a0, ha1_c, fa1_s, fa1_c, label+\"_fa1\")\n",
    "        \n",
    "        ha2 = HalfAdder(b0a2, fa1_s, p3, ha2_c, label+\"_ha2\")  # ha2_s\n",
    "        fa2 = FullAdder(b1a0, fa1_c, ha2_c, fa2_s, fa2_c, label+\"_fa2\")\n",
    "        \n",
    "        ha3 = HalfAdder(b0a1, fa2_s, p2, ha3_c, label+\"_ha3\")  # ha3_s\n",
    "        fa3 = FullAdder(b0a0, fa2_c, ha3_c, p1, p0, label+\"_fa3\")  # fa3_c, fa3_s\n",
    "        \n",
    "        self.H = and_1 + and_2 + and_3 + and_4 + and_5 + and_6 + and_7 + and_8 + and_9 \\\n",
    "        + ha1.H + ha2.H + ha3.H \\\n",
    "        + fa1.H + fa2.H + fa3.H"
   ]
  },
  {
   "cell_type": "code",
   "execution_count": null,
   "metadata": {},
   "outputs": [],
   "source": [
    "def find_three_bit_multiplier_factors(product=[0, 0, 0, 0, 0, 0]):\n",
    "    x = Array.create('x', shape=(3), vartype='BINARY')\n",
    "    y = Array.create('y', shape=(3), vartype='BINARY')\n",
    "    H = ThreeBitMultiplier(x, y, product, \"mult\").H\n",
    "    model = H.compile()\n",
    "    qubo, offset = model.to_qubo()\n",
    "    sol = solve_qubo(qubo, beta_range=(100.,10000.))\n",
    "    decoded_threebit = model.decode_solution(sol, vartype=\"BINARY\")[0]\n",
    "    print(\"x is \" + \"\".join([str(i) for i in decoded_threebit['x'].values()]))\n",
    "    print(\"y is \" + \"\".join([str(i) for i in decoded_threebit['y'].values()]))"
   ]
  },
  {
   "cell_type": "code",
   "execution_count": null,
   "metadata": {},
   "outputs": [],
   "source": [
    "find_three_bit_multiplier_factors([0, 0, 1, 0, 1, 0])"
   ]
  }
 ],
 "metadata": {
  "kernelspec": {
   "display_name": "Python 3",
   "language": "python",
   "name": "python3"
  },
  "language_info": {
   "codemirror_mode": {
    "name": "ipython",
    "version": 3
   },
   "file_extension": ".py",
   "mimetype": "text/x-python",
   "name": "python",
   "nbconvert_exporter": "python",
   "pygments_lexer": "ipython3",
   "version": "3.7.2"
  }
 },
 "nbformat": 4,
 "nbformat_minor": 4
}
